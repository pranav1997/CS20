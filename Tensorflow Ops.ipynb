{
 "cells": [
  {
   "cell_type": "code",
   "execution_count": 4,
   "metadata": {},
   "outputs": [
    {
     "name": "stdout",
     "output_type": "stream",
     "text": [
      "Tensorflow version: 1.9.0\n",
      "5\n"
     ]
    }
   ],
   "source": [
    "\n",
    "import tensorflow as tf\n",
    "print(\"Tensorflow version:\",tf.__version__)\n",
    "a = tf.constant(2, name=\"a\")\n",
    "b = tf.constant(3, name=\"b\")\n",
    "x = tf.add(a, b, name=\"add\")\n",
    "\n",
    "#writer = tf.summary.FileWriter('./graphs', tf.get_default_graph())\n",
    "with tf.Session() as sess:\n",
    "    writer = tf.summary.FileWriter('./graphs', sess.graph) # if you prefer creating your writer using session's graph\n",
    "    print(sess.run(x))\n",
    "writer.close()\n"
   ]
  },
  {
   "cell_type": "markdown",
   "metadata": {},
   "source": [
    "tf.constant(value, dtype=None, shape=None, name='Const', verify_shape=False)\n",
    "## constant of 1d tensor (vector)\n",
    "a = tf.constant([2, 2], name=\"vector\")\n",
    "\n",
    "tf.zeros(shape, dtype=tf.float32, name=None)\n",
    "## create a tensor of shape and all elements are zeros\n",
    "tf.zeros([2, 3], tf.int32) ==> [[0, 0, 0], [0, 0, 0]]\n",
    "\n",
    "\n",
    "tf.zeros_like(input_tensor, dtype=None, name=None, optimize=True)\n",
    "## create a tensor of shape and type (unless type is specified) as the input_tensor but all elements are zeros.\n",
    "## input_tensor [[0, 1], [2, 3], [4, 5]]\n",
    "tf.zeros_like(input_tensor) ==> [[0, 0], [0, 0], [0, 0]]\n",
    "\n",
    "\n",
    "tf.ones(shape, dtype=tf.float32, name=None)\n",
    "## create a tensor of shape and all elements are ones\n",
    "tf.ones([2, 3], tf.int32) ==> [[1, 1, 1], [1, 1, 1]]\n",
    "\n",
    "tf.ones_like(input_tensor, dtype=None, name=None, optimize=True)\n",
    "## create a tensor of shape and type (unless type is specified) as the input_tensor but all elements are ones.\n",
    "## input_tensor is [[0, 1], [2, 3], [4, 5]]\n",
    "tf.ones_like(input_tensor) ==> [[1, 1], [1, 1], [1, 1]]\n",
    "\n",
    "\n",
    "tf.fill(dims, value, name=None) \n",
    "## create a tensor filled with a scalar value.\n",
    "tf.fill([2, 3], 8) ==> [[8, 8, 8], [8, 8, 8]]\n",
    "\n",
    "\n",
    "tf.lin_space(start, stop, num, name=None)\n",
    "## create a sequence of num evenly-spaced values are generated beginning at start. If num > 1, the values in the sequence increase by (stop - start) / (num - 1), so that the last one is exactly stop.\n",
    "## comparable to but slightly different from numpy.linspace\n",
    "\n",
    "tf.lin_space(10.0, 13.0, 4, name=\"linspace\") ==> [10.0 11.0 12.0 13.0]\n"
   ]
  },
  {
   "cell_type": "code",
   "execution_count": null,
   "metadata": {},
   "outputs": [],
   "source": []
  }
 ],
 "metadata": {
  "kernelspec": {
   "display_name": "Python 3",
   "language": "python",
   "name": "python3"
  },
  "language_info": {
   "codemirror_mode": {
    "name": "ipython",
    "version": 3
   },
   "file_extension": ".py",
   "mimetype": "text/x-python",
   "name": "python",
   "nbconvert_exporter": "python",
   "pygments_lexer": "ipython3",
   "version": "3.6.6"
  }
 },
 "nbformat": 4,
 "nbformat_minor": 2
}
